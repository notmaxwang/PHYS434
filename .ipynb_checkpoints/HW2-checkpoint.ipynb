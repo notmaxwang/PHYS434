{
 "cells": [
  {
   "cell_type": "code",
   "execution_count": null,
   "id": "dc7afe4e-1d33-4a62-a640-86573cedbd79",
   "metadata": {},
   "outputs": [],
   "source": [
    "#Problem 1\n",
    "\n",
    "#Probability of rolling two ones P(1,1)\n",
    "# = 1/36\n",
    "\n",
    "#Probability of rolling a combination of 7 P(sum = 7)\n",
    "# possibilties are (1,6) (2,5) (3,4) (4,3) (5,2) (6,1)\n",
    "# = 6/36 = 1/6\n",
    "\n",
    "#Ratio (1/36) / (1/6) = 1/6\n",
    "\n",
    "#Problem 2\n",
    "\n",
    "#By counting\n",
    "#Rolling a 2: 1 / 36\n",
    "#Rolling a 3: 2 / 36\n",
    "#Rolling a 4: 3 / 36\n",
    "#Rolling a 5: 4 / 36\n",
    "#Rolling a 6: 5 / 36\n",
    "#Rolling a 7: 6 / 36\n",
    "#Rolling a 8: 5 / 36\n",
    "#Rolling a 9: 4 / 36\n",
    "#Rolling a 10: 3 / 36\n",
    "#Rolling a 11: 2 / 36\n",
    "#Rolling a 12 : 1 / 36\n",
    "\n",
    "#By program\n",
    "import numpy as np\n",
    "import matplotlib\n",
    "import matplotlib.pyplot as plt\n",
    "import scipy\n",
    "from scipy import stats\n",
    "\n",
    "d = stats.norm.rvs(loc = 7.0, scale = .1, size = 2)"
   ]
  }
 ],
 "metadata": {
  "kernelspec": {
   "display_name": "Python 3",
   "language": "python",
   "name": "python3"
  },
  "language_info": {
   "codemirror_mode": {
    "name": "ipython",
    "version": 3
   },
   "file_extension": ".py",
   "mimetype": "text/x-python",
   "name": "python",
   "nbconvert_exporter": "python",
   "pygments_lexer": "ipython3",
   "version": "3.8.8"
  }
 },
 "nbformat": 4,
 "nbformat_minor": 5
}
