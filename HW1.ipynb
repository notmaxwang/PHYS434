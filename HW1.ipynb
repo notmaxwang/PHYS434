{
 "cells": [
  {
   "cell_type": "code",
   "execution_count": null,
   "id": "a67733fe-b794-4823-9698-cb2713fda981",
   "metadata": {},
   "outputs": [],
   "source": [
    "import numpy as np\n",
    "import matplotlib\n",
    "import matplotlib.pyplot as plt\n",
    "import scipy\n",
    "from scipy import stats\n",
    "\n",
    "#this sets the size of the plot to something useful\n",
    "plt.rcParams[\"figure.figsize\"] = (15,10)\n",
    "\n",
    "d = stats.norm.rvs(loc = 3.0, scale = .01, size = 100000)\n",
    "\n",
    "fig, ax = plt.subplots(1, 1)\n",
    "ax.hist(d,50, density=True)\n",
    "plt.tick_params(labelsize = 24)\n",
    "plt.xlim([2.95,3.05])\n",
    "x = np.linspace(2.95,3.05,1000)\n",
    "ax.plot(x,stats.norm.pdf(x,loc = 3., scale = 0.01),linewidth = 8,alpha = 0.7)\n",
    "plt.show()\n",
    "\n",
    "ax = plt.hist(d,50, density=True)\n",
    "plt.yscale('log')\n",
    "plt.tick_params(labelsize = 24)\n",
    "plt.xlim([2.95,3.05])\n",
    "plt.show()\n",
    "\n",
    "fig, ax = plt.subplots(1, 1)\n",
    "ax.hist(d,50, density=True)\n",
    "plt.yscale('log')\n",
    "plt.tick_params(labelsize = 24)\n",
    "plt.xlim([2.95,3.05])\n",
    "x = np.linspace(2.95,3.05,1000)\n",
    "ax.plot(x,stats.norm.pdf(x,loc = 3., scale = 0.01),linewidth = 8,alpha = 0.7)\n",
    "plt.show()"
   ]
  }
 ],
 "metadata": {
  "kernelspec": {
   "display_name": "Python 3",
   "language": "python",
   "name": "python3"
  },
  "language_info": {
   "codemirror_mode": {
    "name": "ipython",
    "version": 3
   },
   "file_extension": ".py",
   "mimetype": "text/x-python",
   "name": "python",
   "nbconvert_exporter": "python",
   "pygments_lexer": "ipython3",
   "version": "3.8.8"
  }
 },
 "nbformat": 4,
 "nbformat_minor": 5
}
